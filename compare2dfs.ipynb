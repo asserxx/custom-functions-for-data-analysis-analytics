import pandas as pd
def compare_dataframes(df1, df2):
    """
    Compare two DataFrames to ensure they are exactly the same (metadata + values).

    Parameters:
    df1 (pd.DataFrame): The first DataFrame.
    df2 (pd.DataFrame): The second DataFrame.

    Returns:
    bool: True if the DataFrames are identical, False otherwise.
    """
    
    # 1. Compare column names
    columns_equal = df1.columns.equals(df2.columns)

    # 2. Compare data types
    dtypes_equal = df1.dtypes.equals(df2.dtypes)

    # 3. Compare shape (rows, columns)
    shape_equal = df1.shape == df2.shape

    # 4. Compare index
    index_equal = df1.index.equals(df2.index)

    # 5. Compare values
    values_equal = df1.equals(df2)

    # Final comparison result
    if columns_equal and dtypes_equal and shape_equal and index_equal and values_equal:
        print("The DataFrames are exactly the same.")
        return True
    else:
        print("The DataFrames are different.")
        return False

# Example usage:
# Assuming df,df_final are your DataFrames
result = compare_dataframes(df, df_final)
